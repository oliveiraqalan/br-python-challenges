{
  "nbformat": 4,
  "nbformat_minor": 0,
  "metadata": {
    "anaconda-cloud": {},
    "kernelspec": {
      "display_name": "Python 3",
      "language": "python",
      "name": "python3"
    },
    "language_info": {
      "codemirror_mode": {
        "name": "ipython",
        "version": 3
      },
      "file_extension": ".py",
      "mimetype": "text/x-python",
      "name": "python",
      "nbconvert_exporter": "python",
      "pygments_lexer": "ipython3",
      "version": "3.6.5"
    },
    "colab": {
      "name": "Desafio 12.ipynb",
      "provenance": [],
      "include_colab_link": true
    }
  },
  "cells": [
    {
      "cell_type": "markdown",
      "metadata": {
        "id": "view-in-github",
        "colab_type": "text"
      },
      "source": [
        "<a href=\"https://colab.research.google.com/github/oliveiraqalan/br-python-challenges/blob/master/Desafio_12.ipynb\" target=\"_parent\"><img src=\"https://colab.research.google.com/assets/colab-badge.svg\" alt=\"Open In Colab\"/></a>"
      ]
    },
    {
      "cell_type": "markdown",
      "metadata": {
        "id": "AYHY2YXQf6J2",
        "colab_type": "text"
      },
      "source": [
        "### Desafio 12\n",
        "\n",
        "Escreva uma função em Python para verificar a validade de uma senha.\n",
        "\n",
        "Validação:\n",
        "\n",
        "* Pelo menos 1 letra entre [a-z] e 1 letra entre [A-Z].\n",
        "* Pelo menos 1 número entre [0-9].\n",
        "* Pelo menos 1 caractere de [$ # @].\n",
        "* Comprimento mínimo de 6 caracteres.\n",
        "* Comprimento máximo de 16 caracteres.\n",
        "\n",
        "Entradas: \"12345678\", \"J3sus0\", \"#Te5t300\", \"J*90j12374\", \"Michheeul\", \"Monk3y6\"\n",
        "\n",
        "A saída deve ser a senha e um texto indicando se a senha é válida ou inválida:\n",
        "\n",
        "```\n",
        "\"1234\" - Senha inválida\n",
        "\"Qw#1234\" - Senha válida\n",
        "```"
      ]
    },
    {
      "cell_type": "code",
      "metadata": {
        "id": "UGgtGYGGf6J3",
        "colab_type": "code",
        "colab": {}
      },
      "source": [
        "# Seu código"
      ],
      "execution_count": null,
      "outputs": []
    },
    {
      "cell_type": "code",
      "metadata": {
        "id": "n8F01NzD9uHm",
        "colab_type": "code",
        "colab": {}
      },
      "source": [
        "import string"
      ],
      "execution_count": 1,
      "outputs": []
    },
    {
      "cell_type": "code",
      "metadata": {
        "id": "rov7dHqqgTVz",
        "colab_type": "code",
        "colab": {
          "base_uri": "https://localhost:8080/",
          "height": 35
        },
        "outputId": "99b30e12-783f-4413-993c-2152ff911897"
      },
      "source": [
        "string.ascii_uppercase"
      ],
      "execution_count": 6,
      "outputs": [
        {
          "output_type": "execute_result",
          "data": {
            "application/vnd.google.colaboratory.intrinsic+json": {
              "type": "string"
            },
            "text/plain": [
              "'ABCDEFGHIJKLMNOPQRSTUVWXYZ'"
            ]
          },
          "metadata": {
            "tags": []
          },
          "execution_count": 6
        }
      ]
    },
    {
      "cell_type": "code",
      "metadata": {
        "id": "FjW-JTungcle",
        "colab_type": "code",
        "colab": {}
      },
      "source": [
        "def verifica_senha(senha):\n",
        "  import string\n",
        "  especiais = ['$','#','@']\n",
        "  minusculas = list(string.ascii_lowercase)\n",
        "  maiusculas = list(string.ascii_uppercase)\n",
        "  range_list =[str(i) for i in range(10)]\n",
        "  if len(senha)<6 or len(senha)>16:\n",
        "    print(f'\"{senha}\" - Senha inválida')\n",
        "  elif len(set(senha) & set(minusculas)) ==0:\n",
        "    print(f'\"{senha}\" - Senha inválida')\n",
        "  elif len(set(senha) & set(maiusculas)) ==0:\n",
        "    print(f'\"{senha}\" - Senha inválida')\n",
        "  elif len(set(senha) & set(range_list)) ==0:\n",
        "    print(f'\"{senha}\" - Senha inválida')\n",
        "  elif len(set(senha) & set(especiais)) ==0:\n",
        "    print(f'\"{senha}\" - Senha inválida')\n",
        "  else:\n",
        "    print(f'\"{senha}\" - Senha válida')"
      ],
      "execution_count": 39,
      "outputs": []
    },
    {
      "cell_type": "code",
      "metadata": {
        "id": "dqeUPl5vjCCl",
        "colab_type": "code",
        "colab": {
          "base_uri": "https://localhost:8080/",
          "height": 34
        },
        "outputId": "77da8948-9ec2-4005-a321-cba89eb7f0e2"
      },
      "source": [
        "entrada ='Qw#1234'\n",
        "verifica_senha(entrada)"
      ],
      "execution_count": 40,
      "outputs": [
        {
          "output_type": "stream",
          "text": [
            "\"Qw#1234\" - Senha válida\n"
          ],
          "name": "stdout"
        }
      ]
    }
  ]
}